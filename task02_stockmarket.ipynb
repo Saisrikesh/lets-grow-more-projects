{
  "nbformat": 4,
  "nbformat_minor": 0,
  "metadata": {
    "colab": {
      "provenance": []
    },
    "kernelspec": {
      "name": "python3",
      "display_name": "Python 3"
    },
    "language_info": {
      "name": "python"
    }
  },
  "cells": [
    {
      "cell_type": "code",
      "execution_count": 41,
      "metadata": {
        "id": "1HwTsNEWu_7g"
      },
      "outputs": [],
      "source": [
        "import pandas as pd\n",
        "import numpy as np\n",
        "import math\n",
        "import matplotlib.pyplot as plt\n",
        "from sklearn.preprocessing import MinMaxScaler\n",
        "from sklearn.metrics import mean_squared_error\n",
        "import tensorflow as tf\n",
        "from tensorflow.python.keras.models import Sequential\n",
        "from tensorflow.python.keras.layers import Dense\n",
        "from tensorflow.python.keras.layers import LSTM\n",
        "%matplotlib inline"
      ]
    },
    {
      "cell_type": "code",
      "source": [
        "df = pd.read_csv(\"RELIANCE.csv\")\n",
        "df = df.dropna()\n",
        "df.head()"
      ],
      "metadata": {
        "colab": {
          "base_uri": "https://localhost:8080/",
          "height": 354
        },
        "id": "gQqUhslhvqkk",
        "outputId": "f702408b-b9b8-4875-9d58-f65fef3b3d61"
      },
      "execution_count": 42,
      "outputs": [
        {
          "output_type": "execute_result",
          "data": {
            "text/plain": [
              "            Date    Symbol Series  Prev Close    Open    High     Low   Last  \\\n",
              "2850  2011-06-01  RELIANCE     EQ      951.85  952.00  958.65  943.65  947.5   \n",
              "2851  2011-06-02  RELIANCE     EQ      946.80  936.55  954.70  936.55  952.5   \n",
              "2852  2011-06-03  RELIANCE     EQ      951.05  960.50  967.00  931.50  936.0   \n",
              "2853  2011-06-06  RELIANCE     EQ      934.60  934.65  940.80  928.15  938.6   \n",
              "2854  2011-06-07  RELIANCE     EQ      937.75  933.55  960.00  933.55  959.6   \n",
              "\n",
              "       Close    VWAP   Volume      Turnover    Trades  Deliverable Volume  \\\n",
              "2850  946.80  947.83  1838452  1.742538e+14   58630.0            901415.0   \n",
              "2851  951.05  947.09  2152963  2.039039e+14   63061.0           1066759.0   \n",
              "2852  934.60  951.69  4368279  4.157238e+14  128784.0           1035791.0   \n",
              "2853  937.75  935.29  1405741  1.314771e+14   43384.0            476631.0   \n",
              "2854  958.25  950.55  4025919  3.826839e+14   88703.0           2424958.0   \n",
              "\n",
              "      %Deliverble  \n",
              "2850       0.4903  \n",
              "2851       0.4955  \n",
              "2852       0.2371  \n",
              "2853       0.3391  \n",
              "2854       0.6023  "
            ],
            "text/html": [
              "\n",
              "  <div id=\"df-20bf970a-b004-4b6e-aa79-00b14588bbf1\">\n",
              "    <div class=\"colab-df-container\">\n",
              "      <div>\n",
              "<style scoped>\n",
              "    .dataframe tbody tr th:only-of-type {\n",
              "        vertical-align: middle;\n",
              "    }\n",
              "\n",
              "    .dataframe tbody tr th {\n",
              "        vertical-align: top;\n",
              "    }\n",
              "\n",
              "    .dataframe thead th {\n",
              "        text-align: right;\n",
              "    }\n",
              "</style>\n",
              "<table border=\"1\" class=\"dataframe\">\n",
              "  <thead>\n",
              "    <tr style=\"text-align: right;\">\n",
              "      <th></th>\n",
              "      <th>Date</th>\n",
              "      <th>Symbol</th>\n",
              "      <th>Series</th>\n",
              "      <th>Prev Close</th>\n",
              "      <th>Open</th>\n",
              "      <th>High</th>\n",
              "      <th>Low</th>\n",
              "      <th>Last</th>\n",
              "      <th>Close</th>\n",
              "      <th>VWAP</th>\n",
              "      <th>Volume</th>\n",
              "      <th>Turnover</th>\n",
              "      <th>Trades</th>\n",
              "      <th>Deliverable Volume</th>\n",
              "      <th>%Deliverble</th>\n",
              "    </tr>\n",
              "  </thead>\n",
              "  <tbody>\n",
              "    <tr>\n",
              "      <th>2850</th>\n",
              "      <td>2011-06-01</td>\n",
              "      <td>RELIANCE</td>\n",
              "      <td>EQ</td>\n",
              "      <td>951.85</td>\n",
              "      <td>952.00</td>\n",
              "      <td>958.65</td>\n",
              "      <td>943.65</td>\n",
              "      <td>947.5</td>\n",
              "      <td>946.80</td>\n",
              "      <td>947.83</td>\n",
              "      <td>1838452</td>\n",
              "      <td>1.742538e+14</td>\n",
              "      <td>58630.0</td>\n",
              "      <td>901415.0</td>\n",
              "      <td>0.4903</td>\n",
              "    </tr>\n",
              "    <tr>\n",
              "      <th>2851</th>\n",
              "      <td>2011-06-02</td>\n",
              "      <td>RELIANCE</td>\n",
              "      <td>EQ</td>\n",
              "      <td>946.80</td>\n",
              "      <td>936.55</td>\n",
              "      <td>954.70</td>\n",
              "      <td>936.55</td>\n",
              "      <td>952.5</td>\n",
              "      <td>951.05</td>\n",
              "      <td>947.09</td>\n",
              "      <td>2152963</td>\n",
              "      <td>2.039039e+14</td>\n",
              "      <td>63061.0</td>\n",
              "      <td>1066759.0</td>\n",
              "      <td>0.4955</td>\n",
              "    </tr>\n",
              "    <tr>\n",
              "      <th>2852</th>\n",
              "      <td>2011-06-03</td>\n",
              "      <td>RELIANCE</td>\n",
              "      <td>EQ</td>\n",
              "      <td>951.05</td>\n",
              "      <td>960.50</td>\n",
              "      <td>967.00</td>\n",
              "      <td>931.50</td>\n",
              "      <td>936.0</td>\n",
              "      <td>934.60</td>\n",
              "      <td>951.69</td>\n",
              "      <td>4368279</td>\n",
              "      <td>4.157238e+14</td>\n",
              "      <td>128784.0</td>\n",
              "      <td>1035791.0</td>\n",
              "      <td>0.2371</td>\n",
              "    </tr>\n",
              "    <tr>\n",
              "      <th>2853</th>\n",
              "      <td>2011-06-06</td>\n",
              "      <td>RELIANCE</td>\n",
              "      <td>EQ</td>\n",
              "      <td>934.60</td>\n",
              "      <td>934.65</td>\n",
              "      <td>940.80</td>\n",
              "      <td>928.15</td>\n",
              "      <td>938.6</td>\n",
              "      <td>937.75</td>\n",
              "      <td>935.29</td>\n",
              "      <td>1405741</td>\n",
              "      <td>1.314771e+14</td>\n",
              "      <td>43384.0</td>\n",
              "      <td>476631.0</td>\n",
              "      <td>0.3391</td>\n",
              "    </tr>\n",
              "    <tr>\n",
              "      <th>2854</th>\n",
              "      <td>2011-06-07</td>\n",
              "      <td>RELIANCE</td>\n",
              "      <td>EQ</td>\n",
              "      <td>937.75</td>\n",
              "      <td>933.55</td>\n",
              "      <td>960.00</td>\n",
              "      <td>933.55</td>\n",
              "      <td>959.6</td>\n",
              "      <td>958.25</td>\n",
              "      <td>950.55</td>\n",
              "      <td>4025919</td>\n",
              "      <td>3.826839e+14</td>\n",
              "      <td>88703.0</td>\n",
              "      <td>2424958.0</td>\n",
              "      <td>0.6023</td>\n",
              "    </tr>\n",
              "  </tbody>\n",
              "</table>\n",
              "</div>\n",
              "      <button class=\"colab-df-convert\" onclick=\"convertToInteractive('df-20bf970a-b004-4b6e-aa79-00b14588bbf1')\"\n",
              "              title=\"Convert this dataframe to an interactive table.\"\n",
              "              style=\"display:none;\">\n",
              "        \n",
              "  <svg xmlns=\"http://www.w3.org/2000/svg\" height=\"24px\"viewBox=\"0 0 24 24\"\n",
              "       width=\"24px\">\n",
              "    <path d=\"M0 0h24v24H0V0z\" fill=\"none\"/>\n",
              "    <path d=\"M18.56 5.44l.94 2.06.94-2.06 2.06-.94-2.06-.94-.94-2.06-.94 2.06-2.06.94zm-11 1L8.5 8.5l.94-2.06 2.06-.94-2.06-.94L8.5 2.5l-.94 2.06-2.06.94zm10 10l.94 2.06.94-2.06 2.06-.94-2.06-.94-.94-2.06-.94 2.06-2.06.94z\"/><path d=\"M17.41 7.96l-1.37-1.37c-.4-.4-.92-.59-1.43-.59-.52 0-1.04.2-1.43.59L10.3 9.45l-7.72 7.72c-.78.78-.78 2.05 0 2.83L4 21.41c.39.39.9.59 1.41.59.51 0 1.02-.2 1.41-.59l7.78-7.78 2.81-2.81c.8-.78.8-2.07 0-2.86zM5.41 20L4 18.59l7.72-7.72 1.47 1.35L5.41 20z\"/>\n",
              "  </svg>\n",
              "      </button>\n",
              "      \n",
              "  <style>\n",
              "    .colab-df-container {\n",
              "      display:flex;\n",
              "      flex-wrap:wrap;\n",
              "      gap: 12px;\n",
              "    }\n",
              "\n",
              "    .colab-df-convert {\n",
              "      background-color: #E8F0FE;\n",
              "      border: none;\n",
              "      border-radius: 50%;\n",
              "      cursor: pointer;\n",
              "      display: none;\n",
              "      fill: #1967D2;\n",
              "      height: 32px;\n",
              "      padding: 0 0 0 0;\n",
              "      width: 32px;\n",
              "    }\n",
              "\n",
              "    .colab-df-convert:hover {\n",
              "      background-color: #E2EBFA;\n",
              "      box-shadow: 0px 1px 2px rgba(60, 64, 67, 0.3), 0px 1px 3px 1px rgba(60, 64, 67, 0.15);\n",
              "      fill: #174EA6;\n",
              "    }\n",
              "\n",
              "    [theme=dark] .colab-df-convert {\n",
              "      background-color: #3B4455;\n",
              "      fill: #D2E3FC;\n",
              "    }\n",
              "\n",
              "    [theme=dark] .colab-df-convert:hover {\n",
              "      background-color: #434B5C;\n",
              "      box-shadow: 0px 1px 3px 1px rgba(0, 0, 0, 0.15);\n",
              "      filter: drop-shadow(0px 1px 2px rgba(0, 0, 0, 0.3));\n",
              "      fill: #FFFFFF;\n",
              "    }\n",
              "  </style>\n",
              "\n",
              "      <script>\n",
              "        const buttonEl =\n",
              "          document.querySelector('#df-20bf970a-b004-4b6e-aa79-00b14588bbf1 button.colab-df-convert');\n",
              "        buttonEl.style.display =\n",
              "          google.colab.kernel.accessAllowed ? 'block' : 'none';\n",
              "\n",
              "        async function convertToInteractive(key) {\n",
              "          const element = document.querySelector('#df-20bf970a-b004-4b6e-aa79-00b14588bbf1');\n",
              "          const dataTable =\n",
              "            await google.colab.kernel.invokeFunction('convertToInteractive',\n",
              "                                                     [key], {});\n",
              "          if (!dataTable) return;\n",
              "\n",
              "          const docLinkHtml = 'Like what you see? Visit the ' +\n",
              "            '<a target=\"_blank\" href=https://colab.research.google.com/notebooks/data_table.ipynb>data table notebook</a>'\n",
              "            + ' to learn more about interactive tables.';\n",
              "          element.innerHTML = '';\n",
              "          dataTable['output_type'] = 'display_data';\n",
              "          await google.colab.output.renderOutput(dataTable, element);\n",
              "          const docLink = document.createElement('div');\n",
              "          docLink.innerHTML = docLinkHtml;\n",
              "          element.appendChild(docLink);\n",
              "        }\n",
              "      </script>\n",
              "    </div>\n",
              "  </div>\n",
              "  "
            ]
          },
          "metadata": {},
          "execution_count": 42
        }
      ]
    },
    {
      "cell_type": "code",
      "source": [
        "df.tail()\n"
      ],
      "metadata": {
        "colab": {
          "base_uri": "https://localhost:8080/",
          "height": 374
        },
        "id": "0ZV59XV1wDbm",
        "outputId": "aa1d6e91-4917-49cf-e765-9553cc90582d"
      },
      "execution_count": 43,
      "outputs": [
        {
          "output_type": "execute_result",
          "data": {
            "text/plain": [
              "            Date    Symbol Series  Prev Close     Open     High      Low  \\\n",
              "5070  2020-05-22  RELIANCE     EQ     1441.25  1451.80  1458.00  1426.50   \n",
              "5071  2020-05-26  RELIANCE     EQ     1431.55  1448.15  1449.70  1416.30   \n",
              "5072  2020-05-27  RELIANCE     EQ     1424.05  1431.00  1454.00  1412.00   \n",
              "5073  2020-05-28  RELIANCE     EQ     1445.55  1455.00  1479.75  1449.00   \n",
              "5074  2020-05-29  RELIANCE     EQ     1472.25  1468.00  1472.00  1452.65   \n",
              "\n",
              "         Last    Close     VWAP    Volume      Turnover    Trades  \\\n",
              "5070  1433.00  1431.55  1442.31  17458503  2.518059e+15  388907.0   \n",
              "5071  1426.00  1424.05  1428.70  15330793  2.190317e+15  341795.0   \n",
              "5072  1449.85  1445.55  1430.20  16460764  2.354223e+15  348477.0   \n",
              "5073  1471.05  1472.25  1467.50  18519252  2.717698e+15  405603.0   \n",
              "5074  1470.00  1464.40  1462.79  18471770  2.702029e+15  300018.0   \n",
              "\n",
              "      Deliverable Volume  %Deliverble  \n",
              "5070           4083814.0       0.2339  \n",
              "5071           7437964.0       0.4852  \n",
              "5072           6524302.0       0.3964  \n",
              "5073           8377100.0       0.4523  \n",
              "5074          10292573.0       0.5572  "
            ],
            "text/html": [
              "\n",
              "  <div id=\"df-c4346a18-1ac6-428b-94b8-aef5e35e118d\">\n",
              "    <div class=\"colab-df-container\">\n",
              "      <div>\n",
              "<style scoped>\n",
              "    .dataframe tbody tr th:only-of-type {\n",
              "        vertical-align: middle;\n",
              "    }\n",
              "\n",
              "    .dataframe tbody tr th {\n",
              "        vertical-align: top;\n",
              "    }\n",
              "\n",
              "    .dataframe thead th {\n",
              "        text-align: right;\n",
              "    }\n",
              "</style>\n",
              "<table border=\"1\" class=\"dataframe\">\n",
              "  <thead>\n",
              "    <tr style=\"text-align: right;\">\n",
              "      <th></th>\n",
              "      <th>Date</th>\n",
              "      <th>Symbol</th>\n",
              "      <th>Series</th>\n",
              "      <th>Prev Close</th>\n",
              "      <th>Open</th>\n",
              "      <th>High</th>\n",
              "      <th>Low</th>\n",
              "      <th>Last</th>\n",
              "      <th>Close</th>\n",
              "      <th>VWAP</th>\n",
              "      <th>Volume</th>\n",
              "      <th>Turnover</th>\n",
              "      <th>Trades</th>\n",
              "      <th>Deliverable Volume</th>\n",
              "      <th>%Deliverble</th>\n",
              "    </tr>\n",
              "  </thead>\n",
              "  <tbody>\n",
              "    <tr>\n",
              "      <th>5070</th>\n",
              "      <td>2020-05-22</td>\n",
              "      <td>RELIANCE</td>\n",
              "      <td>EQ</td>\n",
              "      <td>1441.25</td>\n",
              "      <td>1451.80</td>\n",
              "      <td>1458.00</td>\n",
              "      <td>1426.50</td>\n",
              "      <td>1433.00</td>\n",
              "      <td>1431.55</td>\n",
              "      <td>1442.31</td>\n",
              "      <td>17458503</td>\n",
              "      <td>2.518059e+15</td>\n",
              "      <td>388907.0</td>\n",
              "      <td>4083814.0</td>\n",
              "      <td>0.2339</td>\n",
              "    </tr>\n",
              "    <tr>\n",
              "      <th>5071</th>\n",
              "      <td>2020-05-26</td>\n",
              "      <td>RELIANCE</td>\n",
              "      <td>EQ</td>\n",
              "      <td>1431.55</td>\n",
              "      <td>1448.15</td>\n",
              "      <td>1449.70</td>\n",
              "      <td>1416.30</td>\n",
              "      <td>1426.00</td>\n",
              "      <td>1424.05</td>\n",
              "      <td>1428.70</td>\n",
              "      <td>15330793</td>\n",
              "      <td>2.190317e+15</td>\n",
              "      <td>341795.0</td>\n",
              "      <td>7437964.0</td>\n",
              "      <td>0.4852</td>\n",
              "    </tr>\n",
              "    <tr>\n",
              "      <th>5072</th>\n",
              "      <td>2020-05-27</td>\n",
              "      <td>RELIANCE</td>\n",
              "      <td>EQ</td>\n",
              "      <td>1424.05</td>\n",
              "      <td>1431.00</td>\n",
              "      <td>1454.00</td>\n",
              "      <td>1412.00</td>\n",
              "      <td>1449.85</td>\n",
              "      <td>1445.55</td>\n",
              "      <td>1430.20</td>\n",
              "      <td>16460764</td>\n",
              "      <td>2.354223e+15</td>\n",
              "      <td>348477.0</td>\n",
              "      <td>6524302.0</td>\n",
              "      <td>0.3964</td>\n",
              "    </tr>\n",
              "    <tr>\n",
              "      <th>5073</th>\n",
              "      <td>2020-05-28</td>\n",
              "      <td>RELIANCE</td>\n",
              "      <td>EQ</td>\n",
              "      <td>1445.55</td>\n",
              "      <td>1455.00</td>\n",
              "      <td>1479.75</td>\n",
              "      <td>1449.00</td>\n",
              "      <td>1471.05</td>\n",
              "      <td>1472.25</td>\n",
              "      <td>1467.50</td>\n",
              "      <td>18519252</td>\n",
              "      <td>2.717698e+15</td>\n",
              "      <td>405603.0</td>\n",
              "      <td>8377100.0</td>\n",
              "      <td>0.4523</td>\n",
              "    </tr>\n",
              "    <tr>\n",
              "      <th>5074</th>\n",
              "      <td>2020-05-29</td>\n",
              "      <td>RELIANCE</td>\n",
              "      <td>EQ</td>\n",
              "      <td>1472.25</td>\n",
              "      <td>1468.00</td>\n",
              "      <td>1472.00</td>\n",
              "      <td>1452.65</td>\n",
              "      <td>1470.00</td>\n",
              "      <td>1464.40</td>\n",
              "      <td>1462.79</td>\n",
              "      <td>18471770</td>\n",
              "      <td>2.702029e+15</td>\n",
              "      <td>300018.0</td>\n",
              "      <td>10292573.0</td>\n",
              "      <td>0.5572</td>\n",
              "    </tr>\n",
              "  </tbody>\n",
              "</table>\n",
              "</div>\n",
              "      <button class=\"colab-df-convert\" onclick=\"convertToInteractive('df-c4346a18-1ac6-428b-94b8-aef5e35e118d')\"\n",
              "              title=\"Convert this dataframe to an interactive table.\"\n",
              "              style=\"display:none;\">\n",
              "        \n",
              "  <svg xmlns=\"http://www.w3.org/2000/svg\" height=\"24px\"viewBox=\"0 0 24 24\"\n",
              "       width=\"24px\">\n",
              "    <path d=\"M0 0h24v24H0V0z\" fill=\"none\"/>\n",
              "    <path d=\"M18.56 5.44l.94 2.06.94-2.06 2.06-.94-2.06-.94-.94-2.06-.94 2.06-2.06.94zm-11 1L8.5 8.5l.94-2.06 2.06-.94-2.06-.94L8.5 2.5l-.94 2.06-2.06.94zm10 10l.94 2.06.94-2.06 2.06-.94-2.06-.94-.94-2.06-.94 2.06-2.06.94z\"/><path d=\"M17.41 7.96l-1.37-1.37c-.4-.4-.92-.59-1.43-.59-.52 0-1.04.2-1.43.59L10.3 9.45l-7.72 7.72c-.78.78-.78 2.05 0 2.83L4 21.41c.39.39.9.59 1.41.59.51 0 1.02-.2 1.41-.59l7.78-7.78 2.81-2.81c.8-.78.8-2.07 0-2.86zM5.41 20L4 18.59l7.72-7.72 1.47 1.35L5.41 20z\"/>\n",
              "  </svg>\n",
              "      </button>\n",
              "      \n",
              "  <style>\n",
              "    .colab-df-container {\n",
              "      display:flex;\n",
              "      flex-wrap:wrap;\n",
              "      gap: 12px;\n",
              "    }\n",
              "\n",
              "    .colab-df-convert {\n",
              "      background-color: #E8F0FE;\n",
              "      border: none;\n",
              "      border-radius: 50%;\n",
              "      cursor: pointer;\n",
              "      display: none;\n",
              "      fill: #1967D2;\n",
              "      height: 32px;\n",
              "      padding: 0 0 0 0;\n",
              "      width: 32px;\n",
              "    }\n",
              "\n",
              "    .colab-df-convert:hover {\n",
              "      background-color: #E2EBFA;\n",
              "      box-shadow: 0px 1px 2px rgba(60, 64, 67, 0.3), 0px 1px 3px 1px rgba(60, 64, 67, 0.15);\n",
              "      fill: #174EA6;\n",
              "    }\n",
              "\n",
              "    [theme=dark] .colab-df-convert {\n",
              "      background-color: #3B4455;\n",
              "      fill: #D2E3FC;\n",
              "    }\n",
              "\n",
              "    [theme=dark] .colab-df-convert:hover {\n",
              "      background-color: #434B5C;\n",
              "      box-shadow: 0px 1px 3px 1px rgba(0, 0, 0, 0.15);\n",
              "      filter: drop-shadow(0px 1px 2px rgba(0, 0, 0, 0.3));\n",
              "      fill: #FFFFFF;\n",
              "    }\n",
              "  </style>\n",
              "\n",
              "      <script>\n",
              "        const buttonEl =\n",
              "          document.querySelector('#df-c4346a18-1ac6-428b-94b8-aef5e35e118d button.colab-df-convert');\n",
              "        buttonEl.style.display =\n",
              "          google.colab.kernel.accessAllowed ? 'block' : 'none';\n",
              "\n",
              "        async function convertToInteractive(key) {\n",
              "          const element = document.querySelector('#df-c4346a18-1ac6-428b-94b8-aef5e35e118d');\n",
              "          const dataTable =\n",
              "            await google.colab.kernel.invokeFunction('convertToInteractive',\n",
              "                                                     [key], {});\n",
              "          if (!dataTable) return;\n",
              "\n",
              "          const docLinkHtml = 'Like what you see? Visit the ' +\n",
              "            '<a target=\"_blank\" href=https://colab.research.google.com/notebooks/data_table.ipynb>data table notebook</a>'\n",
              "            + ' to learn more about interactive tables.';\n",
              "          element.innerHTML = '';\n",
              "          dataTable['output_type'] = 'display_data';\n",
              "          await google.colab.output.renderOutput(dataTable, element);\n",
              "          const docLink = document.createElement('div');\n",
              "          docLink.innerHTML = docLinkHtml;\n",
              "          element.appendChild(docLink);\n",
              "        }\n",
              "      </script>\n",
              "    </div>\n",
              "  </div>\n",
              "  "
            ]
          },
          "metadata": {},
          "execution_count": 43
        }
      ]
    },
    {
      "cell_type": "code",
      "source": [
        "df_close = df['Close']"
      ],
      "metadata": {
        "id": "ZujTzMAnwHDm"
      },
      "execution_count": 44,
      "outputs": []
    },
    {
      "cell_type": "code",
      "source": [
        "df_close.shape"
      ],
      "metadata": {
        "colab": {
          "base_uri": "https://localhost:8080/"
        },
        "id": "TcKvw1jWwJCh",
        "outputId": "7ea2c63e-6b5c-440d-e35e-dadfaef7525e"
      },
      "execution_count": 45,
      "outputs": [
        {
          "output_type": "execute_result",
          "data": {
            "text/plain": [
              "(2225,)"
            ]
          },
          "metadata": {},
          "execution_count": 45
        }
      ]
    },
    {
      "cell_type": "code",
      "source": [
        "plt.plot(df_close)\n"
      ],
      "metadata": {
        "colab": {
          "base_uri": "https://localhost:8080/",
          "height": 447
        },
        "id": "VN-xiGiqwR-O",
        "outputId": "f350fdc0-7898-4e7c-96d9-1b378ab1e95b"
      },
      "execution_count": 46,
      "outputs": [
        {
          "output_type": "execute_result",
          "data": {
            "text/plain": [
              "[<matplotlib.lines.Line2D at 0x7f4dc5595e70>]"
            ]
          },
          "metadata": {},
          "execution_count": 46
        },
        {
          "output_type": "display_data",
          "data": {
            "text/plain": [
              "<Figure size 640x480 with 1 Axes>"
            ],
            "image/png": "[encoded data removed]"
          },
          "metadata": {}
        }
      ]
    },
    {
      "cell_type": "code",
      "source": [
        "scaler = MinMaxScaler(feature_range = (0,1))\n",
        "df_close = scaler.fit_transform(np.array(df_close).reshape(-1,1))"
      ],
      "metadata": {
        "id": "Od_AMl_cwZOm"
      },
      "execution_count": 47,
      "outputs": []
    },
    {
      "cell_type": "code",
      "source": [
        "df_close.shape\n"
      ],
      "metadata": {
        "colab": {
          "base_uri": "https://localhost:8080/"
        },
        "id": "gFxqMXs3wbzI",
        "outputId": "d3af276f-3015-46fc-a3e6-4814b669d0b8"
      },
      "execution_count": 48,
      "outputs": [
        {
          "output_type": "execute_result",
          "data": {
            "text/plain": [
              "(2225, 1)"
            ]
          },
          "metadata": {},
          "execution_count": 48
        }
      ]
    },
    {
      "cell_type": "code",
      "source": [
        "df_close\n"
      ],
      "metadata": {
        "colab": {
          "base_uri": "https://localhost:8080/"
        },
        "id": "I7Khr4XpweOd",
        "outputId": "5605a12c-d58a-4830-db89-607dcd437140"
      },
      "execution_count": 49,
      "outputs": [
        {
          "output_type": "execute_result",
          "data": {
            "text/plain": [
              "array([[0.27792608],\n",
              "       [0.28228953],\n",
              "       [0.26540041],\n",
              "       ...,\n",
              "       [0.78998973],\n",
              "       [0.81740246],\n",
              "       [0.80934292]])"
            ]
          },
          "metadata": {},
          "execution_count": 49
        }
      ]
    },
    {
      "cell_type": "code",
      "source": [
        "training_size = int(len(df_close) * 0.75)\n",
        "test_size = len(df_close) - training_size\n",
        "train_data, test_data = df_close[0:training_size,:], df_close[training_size:len(df_close),:1]"
      ],
      "metadata": {
        "id": "B1b9C7wcwh-_"
      },
      "execution_count": 50,
      "outputs": []
    },
    {
      "cell_type": "code",
      "source": [
        "def create_dataset(dataset, time_step = 1):\n",
        "    dataX, dataY = [], []\n",
        "    for i in range(len(dataset) - time_step - 1):\n",
        "        a = dataset[i:(i+time_step), 0]\n",
        "        dataX.append(a)\n",
        "        dataY.append(dataset[i+time_step, 0])\n",
        "    return np.array(dataX), np.array(dataY)"
      ],
      "metadata": {
        "id": "85a9x-nWwjou"
      },
      "execution_count": 51,
      "outputs": []
    },
    {
      "cell_type": "code",
      "source": [
        "time_step = 100\n",
        "x_train, y_train = create_dataset(train_data, time_step)\n",
        "x_test, y_test = create_dataset(test_data, time_step)"
      ],
      "metadata": {
        "id": "6oSvEzKGwo72"
      },
      "execution_count": 52,
      "outputs": []
    },
    {
      "cell_type": "code",
      "source": [
        "x_train = x_train.reshape(x_train.shape[0], x_train.shape[1], 1)\n",
        "x_test = x_test.reshape(x_test.shape[0], x_test.shape[1], 1)"
      ],
      "metadata": {
        "id": "NJBb2HFewsDe"
      },
      "execution_count": 53,
      "outputs": []
    },
    {
      "cell_type": "code",
      "source": [
        "#Create the LSTM Model\n",
        "model = Sequential()\n",
        "model.add(LSTM(50, return_sequences = True, input_shape = (100,1)))\n",
        "model.add(LSTM(50, return_sequences = True))\n",
        "model.add(LSTM(50))\n",
        "model.add(Dense(1))\n",
        "model.compile(loss = 'mean_squared_error', optimizer = 'adam')"
      ],
      "metadata": {
        "id": "mJdQdrTywxVF"
      },
      "execution_count": 54,
      "outputs": []
    },
    {
      "cell_type": "code",
      "source": [
        "model.summary()"
      ],
      "metadata": {
        "colab": {
          "base_uri": "https://localhost:8080/"
        },
        "id": "JA_nBqobwy_m",
        "outputId": "c0770114-f6be-4247-e034-235d6abe9eb6"
      },
      "execution_count": 55,
      "outputs": [
        {
          "output_type": "stream",
          "name": "stdout",
          "text": [
            "Model: \"sequential_1\"\n",
            "_________________________________________________________________\n",
            "Layer (type)                 Output Shape              Param #   \n",
            "=================================================================\n",
            "lstm_3 (LSTM)                (None, 100, 50)           10400     \n",
            "_________________________________________________________________\n",
            "lstm_4 (LSTM)                (None, 100, 50)           20200     \n",
            "_________________________________________________________________\n",
            "lstm_5 (LSTM)                (None, 50)                20200     \n",
            "_________________________________________________________________\n",
            "dense_1 (Dense)              (None, 1)                 51        \n",
            "=================================================================\n",
            "Total params: 50,851\n",
            "Trainable params: 50,851\n",
            "Non-trainable params: 0\n",
            "_________________________________________________________________\n"
          ]
        }
      ]
    },
    {
      "cell_type": "code",
      "source": [
        "model.fit(x_train, y_train, validation_data = (x_test, y_test), epochs = 25, batch_size = 64, verbose = 1)"
      ],
      "metadata": {
        "colab": {
          "base_uri": "https://localhost:8080/"
        },
        "id": "3nBBEzhww32K",
        "outputId": "c1d9aab6-a7e6-42b2-b49b-eaa16bfdc242"
      },
      "execution_count": 17,
      "outputs": [
        {
          "output_type": "stream",
          "name": "stdout",
          "text": [
            "Epoch 1/25\n",
            "25/25 [==============================] - 9s 347ms/step - loss: 0.0010 - val_loss: 0.0027\n",
            "Epoch 2/25\n",
            "25/25 [==============================] - 9s 348ms/step - loss: 0.0011 - val_loss: 0.0014\n",
            "Epoch 3/25\n",
            "25/25 [==============================] - 8s 315ms/step - loss: 0.0011 - val_loss: 0.0018\n",
            "Epoch 4/25\n",
            "25/25 [==============================] - 9s 345ms/step - loss: 9.5788e-04 - val_loss: 0.0015\n",
            "Epoch 5/25\n",
            "25/25 [==============================] - 9s 348ms/step - loss: 9.2049e-04 - val_loss: 0.0021\n",
            "Epoch 6/25\n",
            "25/25 [==============================] - 8s 342ms/step - loss: 9.9387e-04 - val_loss: 0.0042\n",
            "Epoch 7/25\n",
            "25/25 [==============================] - 8s 315ms/step - loss: 0.0015 - val_loss: 0.0023\n",
            "Epoch 8/25\n",
            "25/25 [==============================] - 9s 347ms/step - loss: 0.0013 - val_loss: 0.0013\n",
            "Epoch 9/25\n",
            "25/25 [==============================] - 9s 350ms/step - loss: 9.8531e-04 - val_loss: 0.0014\n",
            "Epoch 10/25\n",
            "25/25 [==============================] - 8s 320ms/step - loss: 9.3627e-04 - val_loss: 0.0014\n",
            "Epoch 11/25\n",
            "25/25 [==============================] - 9s 355ms/step - loss: 8.7322e-04 - val_loss: 0.0016\n",
            "Epoch 12/25\n",
            "25/25 [==============================] - 9s 353ms/step - loss: 9.1509e-04 - val_loss: 0.0014\n",
            "Epoch 13/25\n",
            "25/25 [==============================] - 8s 337ms/step - loss: 9.8431e-04 - val_loss: 0.0012\n",
            "Epoch 14/25\n",
            "25/25 [==============================] - 8s 327ms/step - loss: 9.7833e-04 - val_loss: 0.0012\n",
            "Epoch 15/25\n",
            "25/25 [==============================] - 9s 350ms/step - loss: 8.4495e-04 - val_loss: 0.0022\n",
            "Epoch 16/25\n",
            "25/25 [==============================] - 9s 347ms/step - loss: 8.7849e-04 - val_loss: 0.0014\n",
            "Epoch 17/25\n",
            "25/25 [==============================] - 8s 318ms/step - loss: 8.8720e-04 - val_loss: 0.0016\n",
            "Epoch 18/25\n",
            "25/25 [==============================] - 9s 350ms/step - loss: 9.1011e-04 - val_loss: 0.0013\n",
            "Epoch 19/25\n",
            "25/25 [==============================] - 9s 355ms/step - loss: 8.3951e-04 - val_loss: 0.0013\n",
            "Epoch 20/25\n",
            "25/25 [==============================] - 8s 327ms/step - loss: 8.2333e-04 - val_loss: 0.0026\n",
            "Epoch 21/25\n",
            "25/25 [==============================] - 9s 336ms/step - loss: 9.3844e-04 - val_loss: 0.0013\n",
            "Epoch 22/25\n",
            "25/25 [==============================] - 9s 351ms/step - loss: 8.6102e-04 - val_loss: 0.0015\n",
            "Epoch 23/25\n",
            "25/25 [==============================] - 9s 349ms/step - loss: 9.9593e-04 - val_loss: 0.0011\n",
            "Epoch 24/25\n",
            "25/25 [==============================] - 8s 315ms/step - loss: 9.3318e-04 - val_loss: 0.0014\n",
            "Epoch 25/25\n",
            "25/25 [==============================] - 9s 348ms/step - loss: 8.6344e-04 - val_loss: 0.0022\n"
          ]
        },
        {
          "output_type": "execute_result",
          "data": {
            "text/plain": [
              "<tensorflow.python.keras.callbacks.History at 0x7f4dc5770520>"
            ]
          },
          "metadata": {},
          "execution_count": 17
        }
      ]
    },
    {
      "cell_type": "code",
      "source": [
        "train_predict = model.predict(x_train)\n",
        "test_predict = model.predict(x_test)"
      ],
      "metadata": {
        "id": "vDcmz-gczCCu"
      },
      "execution_count": 18,
      "outputs": []
    },
    {
      "cell_type": "code",
      "source": [
        "train_predict = scaler.inverse_transform(train_predict)\n",
        "test_predict = scaler.inverse_transform(test_predict)"
      ],
      "metadata": {
        "id": "Th3GMmUOzHiy"
      },
      "execution_count": 19,
      "outputs": []
    },
    {
      "cell_type": "code",
      "source": [
        "math.sqrt(mean_squared_error(y_train, train_predict))"
      ],
      "metadata": {
        "colab": {
          "base_uri": "https://localhost:8080/"
        },
        "id": "pZ7exNxJzNwf",
        "outputId": "eb945fe6-1665-4f22-fa5e-9ed57bf0cff0"
      },
      "execution_count": 20,
      "outputs": [
        {
          "output_type": "execute_result",
          "data": {
            "text/plain": [
              "952.4277182611734"
            ]
          },
          "metadata": {},
          "execution_count": 20
        }
      ]
    },
    {
      "cell_type": "code",
      "source": [
        "math.sqrt(mean_squared_error(y_test, test_predict))"
      ],
      "metadata": {
        "colab": {
          "base_uri": "https://localhost:8080/"
        },
        "id": "TAFh3D2bzPt2",
        "outputId": "6269c2e2-9772-4d77-83ac-670fc97ee886"
      },
      "execution_count": 21,
      "outputs": [
        {
          "output_type": "execute_result",
          "data": {
            "text/plain": [
              "1266.4767065966316"
            ]
          },
          "metadata": {},
          "execution_count": 21
        }
      ]
    },
    {
      "cell_type": "code",
      "source": [
        "#Plotting\n",
        "\n",
        "#Shift train prediction for plotting\n",
        "look_back = 100\n",
        "trainPredictPlot = np.empty_like(df_close)\n",
        "trainPredictPlot[:,:] = np.nan\n",
        "trainPredictPlot[look_back:len(train_predict) + look_back, :] = train_predict\n",
        "\n",
        "#Shift test prediction for plotting\n",
        "testPredictPlot = np.empty_like(df_close)\n",
        "testPredictPlot[:,:] = np.nan\n",
        "testPredictPlot[len(train_predict) + (look_back * 2)+1:len(df_close) - 1, :] = test_predict\n",
        "\n",
        "#Plot baseline and predictions\n",
        "plt.plot(scaler.inverse_transform(df_close))\n",
        "plt.plot(trainPredictPlot)\n",
        "plt.plot(testPredictPlot)\n",
        "plt.show()"
      ],
      "metadata": {
        "colab": {
          "base_uri": "https://localhost:8080/",
          "height": 430
        },
        "id": "cc4FYix-zSRu",
        "outputId": "55973b2e-039d-482f-c961-e6917abbbe25"
      },
      "execution_count": 22,
      "outputs": [
        {
          "output_type": "display_data",
          "data": {
            "text/plain": [
              "<Figure size 640x480 with 1 Axes>"
            ],
            "image/png": "[encoded data removed]"
          },
          "metadata": {}
        }
      ]
    },
    {
      "cell_type": "code",
      "source": [
        "len(test_data), x_test.shape"
      ],
      "metadata": {
        "colab": {
          "base_uri": "https://localhost:8080/"
        },
        "id": "Qm5UYkImzZil",
        "outputId": "0a1b0feb-df67-4502-edfb-cc7e107be2c5"
      },
      "execution_count": 23,
      "outputs": [
        {
          "output_type": "execute_result",
          "data": {
            "text/plain": [
              "(557, (456, 100, 1))"
            ]
          },
          "metadata": {},
          "execution_count": 23
        }
      ]
    },
    {
      "cell_type": "code",
      "source": [
        "x_input = test_data[207:].reshape(1,-1)\n",
        "x_input.shape"
      ],
      "metadata": {
        "colab": {
          "base_uri": "https://localhost:8080/"
        },
        "id": "Gcz-Q8dhzahl",
        "outputId": "1b4b3602-fad3-4fc1-abb6-f19a33c56520"
      },
      "execution_count": 24,
      "outputs": [
        {
          "output_type": "execute_result",
          "data": {
            "text/plain": [
              "(1, 350)"
            ]
          },
          "metadata": {},
          "execution_count": 24
        }
      ]
    },
    {
      "cell_type": "code",
      "source": [
        "temp_input = list(x_input)\n",
        "temp_input = temp_input[0].tolist()"
      ],
      "metadata": {
        "id": "0q6v_yDAzemE"
      },
      "execution_count": 25,
      "outputs": []
    },
    {
      "cell_type": "code",
      "source": [
        "lst_output=[]\n",
        "n_steps=100\n",
        "nextNumberOfDays = 30\n",
        "i=0"
      ],
      "metadata": {
        "id": "ovEkTDhPzh6F"
      },
      "execution_count": 26,
      "outputs": []
    },
    {
      "cell_type": "code",
      "source": [
        "day_new = np.arange(1,101)\n",
        "day_pred = np.arange(101,131)"
      ],
      "metadata": {
        "id": "VaI5XRmmz1kX"
      },
      "execution_count": 30,
      "outputs": []
    },
    {
      "cell_type": "code",
      "source": [
        "df3 = df_close.tolist()\n",
        "df3.extend(lst_output)"
      ],
      "metadata": {
        "id": "8wViGPnJz4yF"
      },
      "execution_count": 31,
      "outputs": []
    },
    {
      "cell_type": "code",
      "source": [
        "len(df_close)"
      ],
      "metadata": {
        "colab": {
          "base_uri": "https://localhost:8080/"
        },
        "id": "_9SjY_wUz6XG",
        "outputId": "e5a6f454-460f-405d-fa49-62e8e72f0253"
      },
      "execution_count": 33,
      "outputs": [
        {
          "output_type": "execute_result",
          "data": {
            "text/plain": [
              "2225"
            ]
          },
          "metadata": {},
          "execution_count": 33
        }
      ]
    }
  ]
}